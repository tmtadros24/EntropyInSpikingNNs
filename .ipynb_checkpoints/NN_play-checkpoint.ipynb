{
 "cells": [
  {
   "cell_type": "code",
   "execution_count": 2,
   "metadata": {
    "collapsed": true
   },
   "outputs": [],
   "source": [
    "import mnist_loader\n",
    "import network\n",
    "import numpy as np\n",
    "from matplotlib import pyplot as plt"
   ]
  },
  {
   "cell_type": "code",
   "execution_count": 3,
   "metadata": {},
   "outputs": [],
   "source": [
    "training_data, validation_data, test_data,train_ae = mnist_loader.load_data_wrapper()"
   ]
  },
  {
   "cell_type": "code",
   "execution_count": 4,
   "metadata": {},
   "outputs": [
    {
     "name": "stdout",
     "output_type": "stream",
     "text": [
      "Epoch 0 training complete\n",
      "\n",
      "Epoch 1 training complete\n",
      "\n",
      "Epoch 2 training complete\n",
      "\n",
      "Epoch 3 training complete\n",
      "\n",
      "Epoch 4 training complete\n",
      "\n"
     ]
    },
    {
     "data": {
      "text/plain": [
       "([], [], [], [])"
      ]
     },
     "execution_count": 4,
     "metadata": {},
     "output_type": "execute_result"
    }
   ],
   "source": [
    "net = network.Network([784, 30, 10], cost=network.CrossEntropyCost)\n",
    "net.large_weight_initializer()\n",
    "net.SGD(training_data, 5, 10, 0.5)\n",
    "#evaluation_data=test_data , monitor_evaluation_accuracy=True"
   ]
  },
  {
   "cell_type": "code",
   "execution_count": 41,
   "metadata": {
    "collapsed": true
   },
   "outputs": [],
   "source": [
    "test_in = np.transpose([np.squeeze(i[0]) for i in test_data])\n",
    "posteriors = net.feedforward(test_in)\n",
    "test_pred = np.argmax(posteriors,0)\n"
   ]
  },
  {
   "cell_type": "code",
   "execution_count": 59,
   "metadata": {},
   "outputs": [
    {
     "data": {
      "image/png": "[encoded data removed]",
      "text/plain": [
       "<matplotlib.figure.Figure at 0x113d37550>"
      ]
     },
     "metadata": {},
     "output_type": "display_data"
    }
   ],
   "source": [
    "test_out = [i[1] for i in test_data]\n",
    "plt.plot(test_out,test_pred,'k.',alpha=.01)\n",
    "\n",
    "plt.show()"
   ]
  },
  {
   "cell_type": "markdown",
   "metadata": {},
   "source": [
    "# Try autoendoder Network"
   ]
  },
  {
   "cell_type": "code",
   "execution_count": 26,
   "metadata": {},
   "outputs": [
    {
     "name": "stdout",
     "output_type": "stream",
     "text": [
      "Epoch 0 training complete\n",
      "\n",
      "Epoch 1 training complete\n",
      "\n",
      "Epoch 2 training complete\n",
      "\n",
      "Epoch 3 training complete\n",
      "\n",
      "Epoch 4 training complete\n",
      "\n",
      "Epoch 5 training complete\n",
      "\n",
      "Epoch 6 training complete\n",
      "\n",
      "Epoch 7 training complete\n",
      "\n",
      "Epoch 8 training complete\n",
      "\n",
      "Epoch 9 training complete\n",
      "\n"
     ]
    },
    {
     "data": {
      "text/plain": [
       "([], [], [], [])"
      ]
     },
     "execution_count": 26,
     "metadata": {},
     "output_type": "execute_result"
    }
   ],
   "source": [
    "net_ae = network.Network([784, 30,5,30, 784], cost=network.QuadraticCost)\n",
    "net_ae.large_weight_initializer()\n",
    "net_ae.SGD(train_ae, 10, 10, 0.5)"
   ]
  },
  {
   "cell_type": "code",
   "execution_count": 34,
   "metadata": {},
   "outputs": [
    {
     "data": {
      "image/png": "[encoded data removed]",
      "text/plain": [
       "<matplotlib.figure.Figure at 0x10b01e110>"
      ]
     },
     "metadata": {},
     "output_type": "display_data"
    }
   ],
   "source": [
    "in_dat  = train_ae[11][0]\n",
    "out_dat = net_ae.feedforward(in_dat)\n",
    "\n",
    "plt.subplot(1,2,1)\n",
    "plt.imshow(np.reshape(in_dat,(28,28)),cmap='gray')\n",
    "plt.title('Original Image')\n",
    "plt.subplot(1,2,2)\n",
    "plt.imshow(np.reshape(out_dat,(28,28)),cmap='gray')\n",
    "plt.title('Reconstructed Image')\n",
    "plt.show()\n"
   ]
  },
  {
   "cell_type": "code",
   "execution_count": null,
   "metadata": {
    "collapsed": true
   },
   "outputs": [],
   "source": []
  }
 ],
 "metadata": {
  "kernelspec": {
   "display_name": "Python 2",
   "language": "python",
   "name": "python2"
  },
  "language_info": {
   "codemirror_mode": {
    "name": "ipython",
    "version": 2
   },
   "file_extension": ".py",
   "mimetype": "text/x-python",
   "name": "python",
   "nbconvert_exporter": "python",
   "pygments_lexer": "ipython2",
   "version": "2.7.14"
  }
 },
 "nbformat": 4,
 "nbformat_minor": 2
}
