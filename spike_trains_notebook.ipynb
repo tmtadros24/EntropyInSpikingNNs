{
 "cells": [
  {
   "cell_type": "code",
   "execution_count": 1,
   "metadata": {
    "collapsed": true
   },
   "outputs": [],
   "source": [
    "import numpy as np\n",
    "import matplotlib.pyplot as plt"
   ]
  },
  {
   "cell_type": "code",
   "execution_count": 3,
   "metadata": {
    "collapsed": true
   },
   "outputs": [],
   "source": [
    "def read_generic_data(filename, x, y):\n",
    "    D = np.zeros((x,y))\n",
    "    with open(filename) as f:\n",
    "        for line_num,line in enumerate(f):\n",
    "            \n",
    "            cols = line.strip().split(\",\")\n",
    "            D[line_num,:] = map(float,cols)\n",
    "    return standardize_data(D)\n",
    "\n",
    "def standardize_data(D):\n",
    "    [x,y] = D.shape\n",
    "    for col in xrange(y):\n",
    "        D[:,col] += abs(min(D[:,col]))\n",
    "\n",
    "    for row in xrange(x):\n",
    "        D[row,:] = D[row,:] * (100/np.mean(D[row,:])) # 100 is the mean, average firing rate per odor\n",
    "        D[row,:] = map(int,D[row,:])\n",
    "    \n",
    "    return D\n",
    "\n",
    "def generate_spike_trains(D, T, dt):\n",
    "\tM = T/dt\n",
    "\tspike_trains = np.zeros((len(D), len(D[0]), M))\n",
    "\tfor i in range(M):\n",
    "\t\tX = np.random.uniform(size=M)\n",
    "\t\tfor j in range(len(D)):\n",
    "\t\t\tfor k in range(len(D[0])):\n",
    "\t\t\t\tif D[j,k] * dt/1000.0 > X[i]:\n",
    "\t\t\t\t\tspike_trains[j,k,i] = 1\n",
    "\t\t\t\telse:\n",
    "\t\t\t\t\tspike_trains[j,k,i] = 0\n",
    "\treturn spike_trains"
   ]
  },
  {
   "cell_type": "code",
   "execution_count": 4,
   "metadata": {},
   "outputs": [
    {
     "ename": "IOError",
     "evalue": "[Errno 2] No such file or directory: 'mnist10k.txt'",
     "output_type": "error",
     "traceback": [
      "\u001b[0;31m---------------------------------------------------------------------------\u001b[0m",
      "\u001b[0;31mIOError\u001b[0m                                   Traceback (most recent call last)",
      "\u001b[0;32m<ipython-input-4-43b044ddfa53>\u001b[0m in \u001b[0;36m<module>\u001b[0;34m()\u001b[0m\n\u001b[1;32m      2\u001b[0m \u001b[0mFEATURES\u001b[0m \u001b[0;34m=\u001b[0m \u001b[0;36m784\u001b[0m\u001b[0;34m\u001b[0m\u001b[0m\n\u001b[1;32m      3\u001b[0m \u001b[0mNUM_EXAMPLES\u001b[0m \u001b[0;34m=\u001b[0m \u001b[0;36m10000\u001b[0m\u001b[0;34m\u001b[0m\u001b[0m\n\u001b[0;32m----> 4\u001b[0;31m \u001b[0mD\u001b[0m \u001b[0;34m=\u001b[0m \u001b[0mread_generic_data\u001b[0m\u001b[0;34m(\u001b[0m\u001b[0;34m'mnist10k.txt'\u001b[0m\u001b[0;34m,\u001b[0m \u001b[0mNUM_EXAMPLES\u001b[0m\u001b[0;34m,\u001b[0m \u001b[0mFEATURES\u001b[0m\u001b[0;34m)\u001b[0m\u001b[0;34m\u001b[0m\u001b[0m\n\u001b[0m\u001b[1;32m      5\u001b[0m '''\n\u001b[1;32m      6\u001b[0m \u001b[0mX\u001b[0m \u001b[0;34m=\u001b[0m \u001b[0mnp\u001b[0m\u001b[0;34m.\u001b[0m\u001b[0mzeros\u001b[0m\u001b[0;34m(\u001b[0m\u001b[0;34m(\u001b[0m\u001b[0mNUM_EXAMPLES\u001b[0m\u001b[0;34m,\u001b[0m \u001b[0;36m28\u001b[0m\u001b[0;34m,\u001b[0m \u001b[0;36m28\u001b[0m\u001b[0;34m)\u001b[0m\u001b[0;34m)\u001b[0m\u001b[0;34m\u001b[0m\u001b[0m\n",
      "\u001b[0;32m<ipython-input-3-57ab0e6db1fa>\u001b[0m in \u001b[0;36mread_generic_data\u001b[0;34m(filename, x, y)\u001b[0m\n\u001b[1;32m      1\u001b[0m \u001b[0;32mdef\u001b[0m \u001b[0mread_generic_data\u001b[0m\u001b[0;34m(\u001b[0m\u001b[0mfilename\u001b[0m\u001b[0;34m,\u001b[0m \u001b[0mx\u001b[0m\u001b[0;34m,\u001b[0m \u001b[0my\u001b[0m\u001b[0;34m)\u001b[0m\u001b[0;34m:\u001b[0m\u001b[0;34m\u001b[0m\u001b[0m\n\u001b[1;32m      2\u001b[0m     \u001b[0mD\u001b[0m \u001b[0;34m=\u001b[0m \u001b[0mnp\u001b[0m\u001b[0;34m.\u001b[0m\u001b[0mzeros\u001b[0m\u001b[0;34m(\u001b[0m\u001b[0;34m(\u001b[0m\u001b[0mx\u001b[0m\u001b[0;34m,\u001b[0m\u001b[0my\u001b[0m\u001b[0;34m)\u001b[0m\u001b[0;34m)\u001b[0m\u001b[0;34m\u001b[0m\u001b[0m\n\u001b[0;32m----> 3\u001b[0;31m     \u001b[0;32mwith\u001b[0m \u001b[0mopen\u001b[0m\u001b[0;34m(\u001b[0m\u001b[0mfilename\u001b[0m\u001b[0;34m)\u001b[0m \u001b[0;32mas\u001b[0m \u001b[0mf\u001b[0m\u001b[0;34m:\u001b[0m\u001b[0;34m\u001b[0m\u001b[0m\n\u001b[0m\u001b[1;32m      4\u001b[0m         \u001b[0;32mfor\u001b[0m \u001b[0mline_num\u001b[0m\u001b[0;34m,\u001b[0m\u001b[0mline\u001b[0m \u001b[0;32min\u001b[0m \u001b[0menumerate\u001b[0m\u001b[0;34m(\u001b[0m\u001b[0mf\u001b[0m\u001b[0;34m)\u001b[0m\u001b[0;34m:\u001b[0m\u001b[0;34m\u001b[0m\u001b[0m\n\u001b[1;32m      5\u001b[0m \u001b[0;34m\u001b[0m\u001b[0m\n",
      "\u001b[0;31mIOError\u001b[0m: [Errno 2] No such file or directory: 'mnist10k.txt'"
     ]
    }
   ],
   "source": [
    "# Load in MNIST data\n",
    "FEATURES = 784\n",
    "NUM_EXAMPLES = 10000\n",
    "D = read_generic_data('mnist10k.txt', NUM_EXAMPLES, FEATURES)\n",
    "'''\n",
    "X = np.zeros((NUM_EXAMPLES, 28, 28))\n",
    "for i in range(NUM_EXAMPLES):\n",
    "\tX[i,:,:] = D[i,:].reshape(28,28).transpose()\n",
    "\n",
    "# plot 10 examples images\n",
    "n = 10  # how many digits we will display\n",
    "plt.figure(figsize=(20, 4))\n",
    "for i in range(n):\n",
    "    # display original\n",
    "    ax = plt.subplot(2, n, i + 1)\n",
    "    plt.imshow(X[i])\n",
    "    plt.gray()\n",
    "    ax.get_xaxis().set_visible(False)\n",
    "    ax.get_yaxis().set_visible(False)\n",
    "plt.show()\n",
    "'''\n",
    "\n",
    "D = D[:100,:]\n",
    "# Generate Spike Trains\n",
    "T = 100\n",
    "dt = 1\n",
    "spike_trains = generate_spike_trains(D, T, dt)\n",
    "'''\n",
    "n=10\n",
    "for i in range(10):\n",
    "\t# display original\n",
    "    ax = plt.subplot(2, n+1, i + 1)\n",
    "    plt.imshow(np.multiply(spike_trains[0,:,i].reshape(28,28).transpose(), D[0,:].reshape(28,28).transpose()))\n",
    "    plt.gray()\n",
    "    ax.get_xaxis().set_visible(False)\n",
    "    ax.get_yaxis().set_visible(False)\n",
    "ax = plt.subplot(2, n+1, i + 1)\n",
    "plt.imshow(D[0,:].reshape(28,28).transpose())\n",
    "plt.gray()\n",
    "ax.get_xaxis().set_visible(False)\n",
    "ax.get_yaxis().set_visible(False)\n",
    "plt.show()\n",
    "'''\n",
    "'''\n",
    "m = np.zeros(784)\n",
    "# Number of Spikes\n",
    "n=10\n",
    "plt.figure(figsize=(10, 4))\n",
    "plt.autoscale(False)\n",
    "for i in range(10):\n",
    "\tm = np.zeros(784)\n",
    "\t# display original\n",
    "\tax = plt.subplot(2, n, i + 1)\n",
    "\tj = 0\n",
    "\twhile j < i*10 + 1:\n",
    "\t\tm = np.add(m, spike_trains[1,:,j])\n",
    "\t\tj += 1\n",
    "\tplt.imshow(m.reshape(28,28).transpose() / 100.0, vmin=0, vmax=1)\n",
    "\tplt.gray()\n",
    "\tax.get_xaxis().set_visible(False)\n",
    "\tax.get_yaxis().set_visible(False)\n",
    "plt.show()\n",
    "'''\n",
    "lineoffsets2 = 1\n",
    "linelengths2 = 1\n",
    "# Raster plots\n",
    "nbins = T/dt\n",
    "ntrials = 784\n",
    "spikes = spike_trains[0,:,:]\n",
    "print spikes.shape\n",
    "fig = plt.figure()\n",
    "plt.imshow(spikes, cmap='Greys',  interpolation='nearest')\n",
    "   \n",
    "plt.title('Example raster plot')\n",
    "plt.xlabel('time')\n",
    "plt.ylabel('trial')\n",
    "plt.show()"
   ]
  },
  {
   "cell_type": "code",
   "execution_count": null,
   "metadata": {
    "collapsed": true
   },
   "outputs": [],
   "source": []
  }
 ],
 "metadata": {
  "kernelspec": {
   "display_name": "Python 2",
   "language": "python",
   "name": "python2"
  },
  "language_info": {
   "codemirror_mode": {
    "name": "ipython",
    "version": 2
   },
   "file_extension": ".py",
   "mimetype": "text/x-python",
   "name": "python",
   "nbconvert_exporter": "python",
   "pygments_lexer": "ipython2",
   "version": "2.7.14"
  }
 },
 "nbformat": 4,
 "nbformat_minor": 2
}
