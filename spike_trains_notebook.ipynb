{
 "cells": [
  {
   "cell_type": "code",
   "execution_count": 1,
   "metadata": {
    "collapsed": true
   },
   "outputs": [],
   "source": [
    "import numpy as np\n",
    "import matplotlib.pyplot as plt"
   ]
  },
  {
   "cell_type": "code",
   "execution_count": 3,
   "metadata": {
    "collapsed": true
   },
   "outputs": [],
   "source": [
    "def read_generic_data(filename, x, y):\n",
    "    D = np.zeros((x,y))\n",
    "    with open(filename) as f:\n",
    "        for line_num,line in enumerate(f):\n",
    "            \n",
    "            cols = line.strip().split(\",\")\n",
    "            D[line_num,:] = map(float,cols)\n",
    "    return standardize_data(D)\n",
    "\n",
    "def standardize_data(D):\n",
    "    [x,y] = D.shape\n",
    "    for col in xrange(y):\n",
    "        D[:,col] += abs(min(D[:,col]))\n",
    "\n",
    "    for row in xrange(x):\n",
    "        D[row,:] = D[row,:] * (100/np.mean(D[row,:])) # 100 is the mean, average firing rate per odor\n",
    "        D[row,:] = map(int,D[row,:])\n",
    "    \n",
    "    return D\n",
    "\n",
    "def generate_spike_trains(D, T, dt):\n",
    "\tM = T/dt\n",
    "\tspike_trains = np.zeros((len(D), len(D[0]), M))\n",
    "\tfor i in range(M):\n",
    "\t\tX = np.random.uniform(size=M)\n",
    "\t\tfor j in range(len(D)):\n",
    "\t\t\tfor k in range(len(D[0])):\n",
    "\t\t\t\tif D[j,k] * dt/1000.0 > X[i]:\n",
    "\t\t\t\t\tspike_trains[j,k,i] = 1\n",
    "\t\t\t\telse:\n",
    "\t\t\t\t\tspike_trains[j,k,i] = 0\n",
    "\treturn spike_trains"
   ]
  },
  {
   "cell_type": "code",
   "execution_count": 5,
   "metadata": {},
   "outputs": [
    {
     "name": "stdout",
     "output_type": "stream",
     "text": [
      "(784, 100)\n"
     ]
    },
    {
     "data": {
      "image/png": "[encoded data removed]",
      "text/plain": [
       "<matplotlib.figure.Figure at 0x10fc40dd0>"
      ]
     },
     "metadata": {},
     "output_type": "display_data"
    }
   ],
   "source": [
    "# Load in MNIST data\n",
    "FEATURES = 784\n",
    "NUM_EXAMPLES = 10000\n",
    "D = read_generic_data('mnist10k.txt', NUM_EXAMPLES, FEATURES)\n",
    "\n",
    "D = D[:100,:]\n",
    "# Generate Spike Trains\n",
    "T = 100\n",
    "dt = 1\n",
    "spike_trains = generate_spike_trains(D, T, dt)\n",
    "\n",
    "lineoffsets2 = 1\n",
    "linelengths2 = 1\n",
    "# Raster plots\n",
    "nbins = T/dt\n",
    "ntrials = 784\n",
    "spikes = spike_trains[0,:,:]\n",
    "print spikes.shape\n",
    "fig = plt.figure()\n",
    "plt.imshow(spikes, cmap='Greys',  interpolation='nearest')\n",
    "   \n",
    "plt.title('Example raster plot')\n",
    "plt.xlabel('time')\n",
    "plt.ylabel('trial')\n",
    "plt.show()"
   ]
  },
  {
   "cell_type": "code",
   "execution_count": null,
   "metadata": {
    "collapsed": true
   },
   "outputs": [],
   "source": []
  }
 ],
 "metadata": {
  "kernelspec": {
   "display_name": "Python 2",
   "language": "python",
   "name": "python2"
  },
  "language_info": {
   "codemirror_mode": {
    "name": "ipython",
    "version": 2
   },
   "file_extension": ".py",
   "mimetype": "text/x-python",
   "name": "python",
   "nbconvert_exporter": "python",
   "pygments_lexer": "ipython2",
   "version": "2.7.14"
  }
 },
 "nbformat": 4,
 "nbformat_minor": 2
}
